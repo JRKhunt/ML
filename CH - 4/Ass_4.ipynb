{
 "cells": [
  {
   "cell_type": "code",
   "execution_count": 25,
   "id": "8fc51f05-0457-4072-a54f-47862d5935cc",
   "metadata": {},
   "outputs": [
    {
     "name": "stdout",
     "output_type": "stream",
     "text": [
      "Number of sentences in the dataset: 1744\n",
      "Number of words in the dataset: 36971\n"
     ]
    }
   ],
   "source": [
    "# Load the dataset (Read the text file)\n",
    "\n",
    "import pandas as pd\n",
    "file_path  = \"data.txt\"\n",
    "with open(file_path,'r',encoding='utf-8') as file:\n",
    "    data = file.read()\n",
    "# print(data)\n",
    "\n",
    "\n",
    "\n",
    "# perform sentence tokenization \n",
    "\n",
    "from nltk import sent_tokenize\n",
    "sentence = sent_tokenize(data)\n",
    "# print(sentence)\n",
    "\n",
    "\n",
    "\n",
    "# perform word tokenization\n",
    "\n",
    "from nltk import word_tokenize\n",
    "word = word_tokenize(data)\n",
    "# print(word)\n",
    "\n",
    "\n",
    "\n",
    "# Separate the work along with different punctuations\n",
    "from nltk import wordpunct_tokenize\n",
    "wordpunct = wordpunct_tokenize(data)\n",
    "# print(wordpunct)\n",
    "\n",
    "\n",
    "\n",
    "# Count the number of sentence in the dataset\n",
    "num_sentences = len(sentence)\n",
    "print(\"Number of sentences in the dataset:\", num_sentences)\n",
    "\n",
    "\n",
    "\n",
    "# Count the number of words in the dataset\n",
    "num_words = len(word)\n",
    "print(\"Number of words in the dataset:\", num_words)"
   ]
  },
  {
   "cell_type": "code",
   "execution_count": null,
   "id": "3270fecc-b932-4051-9408-573085ac78ac",
   "metadata": {},
   "outputs": [],
   "source": []
  }
 ],
 "metadata": {
  "kernelspec": {
   "display_name": "Python 3 (ipykernel)",
   "language": "python",
   "name": "python3"
  },
  "language_info": {
   "codemirror_mode": {
    "name": "ipython",
    "version": 3
   },
   "file_extension": ".py",
   "mimetype": "text/x-python",
   "name": "python",
   "nbconvert_exporter": "python",
   "pygments_lexer": "ipython3",
   "version": "3.12.4"
  }
 },
 "nbformat": 4,
 "nbformat_minor": 5
}
